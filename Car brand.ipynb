{
 "cells": [
  {
   "cell_type": "code",
   "execution_count": 4,
   "metadata": {},
   "outputs": [
    {
     "name": "stdout",
     "output_type": "stream",
     "text": [
      "Have Suzuki in brand car? =  False\n",
      "Have Ferrari in brand car? =  False\n",
      "Have Ford in brand car? =  True\n"
     ]
    }
   ],
   "source": [
    "brand_cars = (\"Toyota\", \"Honda\", \"Benz\", \"BMW\", \"Tesla\", \"Ford\", \"KIA\", \"Volvo\" )\n",
    "print(\"Have Suzuki in brand car? = \", \"Suzuki\" in brand_cars)\n",
    "print(\"Have Ferrari in brand car? = \", \"Ferrari\" in brand_cars)\n",
    "print(\"Have Ford in brand car? = \", \"Ford\" in brand_cars)"
   ]
  },
  {
   "cell_type": "code",
   "execution_count": 7,
   "metadata": {},
   "outputs": [
    {
     "name": "stdout",
     "output_type": "stream",
     "text": [
      "Number of Brand car is 8 brand\n"
     ]
    }
   ],
   "source": [
    "brand_cars = (\"Toyota\", \"Honda\", \"Benz\", \"BMW\", \"Tesla\", \"Ford\", \"KIA\", \"Volvo\")\n",
    "print(\"Number of Brand car is\",len(brand_cars), \"brand\")"
   ]
  },
  {
   "cell_type": "code",
   "execution_count": 18,
   "metadata": {},
   "outputs": [
    {
     "name": "stdout",
     "output_type": "stream",
     "text": [
      "Position of Benz  is  2\n",
      "Position of Ford  is  5\n",
      "Position of Volvo  is  7\n"
     ]
    }
   ],
   "source": [
    "brand_cars = (\"Toyota\", \"Honda\", \"Benz\", \"BMW\", \"Tesla\", \"Ford\", \"KIA\", \"Volvo\")\n",
    "print(\"Position of Benz  is \", brand_cars.index(\"Benz\"))\n",
    "print(\"Position of Ford  is \", brand_cars.index(\"Ford\"))\n",
    "print(\"Position of Volvo  is \", brand_cars.index(\"Volvo\"))"
   ]
  },
  {
   "cell_type": "code",
   "execution_count": null,
   "metadata": {},
   "outputs": [],
   "source": []
  }
 ],
 "metadata": {
  "kernelspec": {
   "display_name": "Python 3",
   "language": "python",
   "name": "python3"
  },
  "language_info": {
   "codemirror_mode": {
    "name": "ipython",
    "version": 3
   },
   "file_extension": ".py",
   "mimetype": "text/x-python",
   "name": "python",
   "nbconvert_exporter": "python",
   "pygments_lexer": "ipython3",
   "version": "3.7.3"
  }
 },
 "nbformat": 4,
 "nbformat_minor": 2
}
